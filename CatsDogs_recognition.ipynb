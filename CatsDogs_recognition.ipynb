{
  "nbformat": 4,
  "nbformat_minor": 0,
  "metadata": {
    "colab": {
      "provenance": [],
      "gpuType": "T4"
    },
    "kernelspec": {
      "name": "python3",
      "display_name": "Python 3"
    },
    "language_info": {
      "name": "python"
    },
    "accelerator": "GPU"
  },
  "cells": [
    {
      "cell_type": "markdown",
      "source": [
        "Loading the trained model from Google drive"
      ],
      "metadata": {
        "id": "1EP-rK-rC6Qd"
      }
    },
    {
      "cell_type": "code",
      "source": [
        "from keras.models import load_model\n",
        "from google.colab import drive\n",
        "import os\n",
        "\n",
        "drive.mount ('/content/drive')\n",
        "\n",
        "# Path where you want to save the model in your Google Drive\n",
        "# folder_path = '/content/drive/My Drive/colab-models'\n",
        "folder_path = '/content/drive/My Drive/colab-models'\n",
        "zip_file_url = 'https://download.microsoft.com/download/3/E/1/3E1C3F21-ECDB-4869-8368-6DEBA77B919F/kagglecatsanddogs_5340.zip'\n",
        "extract_to_dir = folder_path + '/data'"
      ],
      "metadata": {
        "colab": {
          "base_uri": "https://localhost:8080/"
        },
        "id": "2bUWXPH71aA4",
        "outputId": "621a846f-cbac-450b-f178-84d8e0fb6ca1"
      },
      "execution_count": null,
      "outputs": [
        {
          "output_type": "stream",
          "name": "stdout",
          "text": [
            "Drive already mounted at /content/drive; to attempt to forcibly remount, call drive.mount(\"/content/drive\", force_remount=True).\n"
          ]
        }
      ]
    },
    {
      "cell_type": "markdown",
      "source": [
        "Load saved ResNet18 Model"
      ],
      "metadata": {
        "id": "ZzgOdR8LE82E"
      }
    },
    {
      "cell_type": "code",
      "source": [
        "import torch\n",
        "from torchvision import datasets, transforms\n",
        "from torch.utils.data import DataLoader\n",
        "from torchvision.models.resnet import resnet18\n",
        "import torch.nn as nn\n",
        "import torch.optim as optim\n",
        "import torch.nn.init as init\n",
        "\n",
        "model_path = os.path.join(folder_path, '/custom_resnet18_model_15epochs.pth')\n",
        "\n",
        "model = resnet18(pretrained=False)\n",
        "model.fc = nn.Linear(model.fc.in_features, 2)\n",
        "model = model.to(device)\n",
        "# specifying loss function\n",
        "loss_fn = nn.CrossEntropyLoss() ## multiple loss functions and optizers\n",
        "\n",
        "# specifying optimizer\n",
        "optimizer = optim.SGD(model.parameters(), lr=0.001, momentum=0.9) # lr = learning rate , momentum = directions to where\n",
        "\n",
        "device = torch.device(\"cuda\" if torch.cuda.is_available() else \"cpu\")"
      ],
      "metadata": {
        "id": "TFQaTxTJDYpl"
      },
      "execution_count": null,
      "outputs": []
    },
    {
      "cell_type": "code",
      "source": [
        "# specifying optimizer\n",
        "optimizer = optim.SGD(model.parameters(), lr=0.001, momentum=0.9) # lr = learning rate , momentum = directions to where\n",
        "\n",
        "# Load the checkpoint\n",
        "checkpoint = torch.load(model_path)\n",
        "\n",
        "# Restore the states\n",
        "model.load_state_dict(checkpoint['state_dict'])\n",
        "optimizer.load_state_dict(checkpoint['optimizer'])\n",
        "total_epochs = checkpoint['epoch']"
      ],
      "metadata": {
        "colab": {
          "base_uri": "https://localhost:8080/"
        },
        "id": "Z2lswpy9ROoy",
        "outputId": "e6281559-e209-4596-f497-63ff2f22ebb6"
      },
      "execution_count": null,
      "outputs": [
        {
          "output_type": "execute_result",
          "data": {
            "text/plain": [
              "1"
            ]
          },
          "metadata": {},
          "execution_count": 42
        }
      ]
    },
    {
      "cell_type": "code",
      "source": [
        "device = torch.device(\"cuda:0\" if torch.cuda.is_available() else \"cpu\")\n",
        "print(\"Selected device:\", device)"
      ],
      "metadata": {
        "colab": {
          "base_uri": "https://localhost:8080/"
        },
        "id": "d7QqRJRGMZTA",
        "outputId": "c5921138-bbc7-4962-f621-4449970898d5"
      },
      "execution_count": null,
      "outputs": [
        {
          "output_type": "stream",
          "name": "stdout",
          "text": [
            "Selected device: cuda:0\n"
          ]
        }
      ]
    },
    {
      "cell_type": "markdown",
      "source": [
        "Download Cat & Dog images (Commented out after downloading into Google Drive)"
      ],
      "metadata": {
        "id": "nTri25rbC-2m"
      }
    },
    {
      "cell_type": "code",
      "source": [
        "## Image Downloading\n",
        "# import requests\n",
        "# import zipfile\n",
        "# import os\n",
        "# from io import BytesIO\n",
        "\n",
        "# response = requests.get(zip_file_url)\n",
        "# zip_file_bytes = BytesIO(response.content)\n",
        "# with zipfile.ZipFile(zip_file_bytes, 'r') as zip_ref:\n",
        "#     zip_ref.extractall(extract_to_dir)\n",
        "\n",
        "# # Empty files\n",
        "# files = [ extract_to_dir + '/PetImages/Cat/666.jpg', extract_to_dir + '/PetImages/Dog/11702.jpg']\n",
        "\n",
        "# # Check if the file exists\n",
        "# for file_path in files:\n",
        "#   if os.path.exists(file_path):\n",
        "#       os.remove(file_path)\n",
        "#       print(f\"File {file_path} has been removed successfully.\")\n",
        "#   else:\n",
        "#       print(f\"The file {file_path} does not exist.\")"
      ],
      "metadata": {
        "id": "aY70nmVR7VWF",
        "colab": {
          "base_uri": "https://localhost:8080/"
        },
        "outputId": "82b43c32-ba65-4f3d-fa2a-375e1a7fd87f"
      },
      "execution_count": null,
      "outputs": [
        {
          "output_type": "stream",
          "name": "stdout",
          "text": [
            "File /content/drive/My Drive/colab-models/data/PetImages/Cat/666.jpg has been removed successfully.\n",
            "File /content/drive/My Drive/colab-models/data/PetImages/Dog/11702.jpg has been removed successfully.\n"
          ]
        }
      ]
    },
    {
      "cell_type": "markdown",
      "source": [
        "Transform the images"
      ],
      "metadata": {
        "id": "5WgP8KN4DFz_"
      }
    },
    {
      "cell_type": "code",
      "source": [
        "transformations = transforms.Compose([\n",
        "    transforms.Resize((64, 64)),\n",
        "    transforms.Lambda(lambda img: img.convert('RGB')),\n",
        "    transforms.ToTensor(),\n",
        "    transforms.Normalize((0.5, 0.5, 0.5), (0.5, 0.5, 0.5))\n",
        "])\n",
        "\n",
        "dataset = datasets.ImageFolder(root= extract_to_dir + '/PetImages/', transform=transformations)"
      ],
      "metadata": {
        "id": "QJeu6OOD9OPg"
      },
      "execution_count": null,
      "outputs": []
    },
    {
      "cell_type": "code",
      "source": [
        "import matplotlib.pyplot as plt\n",
        "\n",
        "classes = ['Cat', 'Dog']\n",
        "index = 200\n",
        "\n",
        "img, label = dataset[index]\n",
        "img_mpl = img.permute(1, 2, 0)\n",
        "\n",
        "plt.imshow(img_mpl)\n",
        "plt.title(classes[label])\n",
        "plt.show()"
      ],
      "metadata": {
        "colab": {
          "base_uri": "https://localhost:8080/",
          "height": 469
        },
        "id": "VWzc7dmDC_51",
        "outputId": "e99e9938-a502-401a-cc8d-091d19ac16af"
      },
      "execution_count": null,
      "outputs": [
        {
          "output_type": "stream",
          "name": "stderr",
          "text": [
            "WARNING:matplotlib.image:Clipping input data to the valid range for imshow with RGB data ([0..1] for floats or [0..255] for integers).\n"
          ]
        },
        {
          "output_type": "display_data",
          "data": {
            "text/plain": [
              "<Figure size 640x480 with 1 Axes>"
            ],
            "image/png": "[encoded data removed]"
          },
          "metadata": {}
        }
      ]
    },
    {
      "cell_type": "code",
      "source": [
        "from torch.utils.data import DataLoader, random_split\n",
        "\n",
        "train_size = int(0.8 * len(dataset))\n",
        "test_size = len(dataset) - train_size\n",
        "\n",
        "train_dataset, test_set = random_split(dataset, [train_size, test_size])\n",
        "\n",
        "train_loader = DataLoader(train_dataset, batch_size=64, shuffle=True, num_workers=2)\n",
        "test_loader  = DataLoader(test_set, batch_size=64, shuffle=False, num_workers=2)"
      ],
      "metadata": {
        "id": "suy2dGeVGt0M"
      },
      "execution_count": null,
      "outputs": []
    },
    {
      "cell_type": "code",
      "source": [
        "# After training the model, commented out training steps\n",
        "\n",
        "# initialize weights -- this isn't necessary; pytorch does it anymore. I do this here to make a point.\n",
        "def weights_init(m):\n",
        "    if isinstance(m, nn.Conv2d) or isinstance(m, nn.Linear):\n",
        "        torch.nn.init.xavier_uniform_(m.weight)\n",
        "        if m.bias is not None:\n",
        "            torch.nn.init.zeros_(m.bias)\n",
        "\n",
        "# run this cell a few times and watch what happens if you comment or not comment out the line to reinitialize weights\n",
        "# model.apply(weights_init) ## if you want to continue training, comment out\n",
        "\n",
        "total_epochs = 15\n",
        "for epoch in range(total_epochs):\n",
        "    print('epoch: ', epoch)\n",
        "    correct = 0\n",
        "    total = 0\n",
        "    for i_batch, data in enumerate(train_loader):\n",
        "        inputs, targets = data[0].to(device), data[1].to(device)\n",
        "\n",
        "        # Reset gradients for this mini-batch -- so that the gradients are rescaculated\n",
        "        #(in some contexts, you want gradients to \"accumulate\", but this is not typical)\n",
        "        optimizer.zero_grad()\n",
        "\n",
        "        # Forward pass: compute predicted outputs by passing inputs to the model\n",
        "        outputs = model(inputs) # recall that's what we used to call z\n",
        "\n",
        "        # Compute loss\n",
        "        loss = loss_fn(outputs, targets)\n",
        "\n",
        "        # Backward pass: compute gradient of the loss with respect to model parameters\n",
        "        loss.backward()\n",
        "\n",
        "        # Perform a single optimization step (updating weights and biases)\n",
        "        optimizer.step()\n",
        "\n",
        "        _, predcited = torch.max(outputs.data, 1)\n",
        "        total += targets.size(0)\n",
        "        correct += (predcited == targets).sum().item()\n",
        "\n",
        "        # print loss for every 100 mini-batches\n",
        "        if i_batch % 100 == 99:\n",
        "          print('loss:', loss)\n",
        "          # Beware: if you catch the very last batch, the shape may not be 64.\n",
        "          print('outputs shape:', outputs.data.shape)\n",
        "          print('accuracy: ', correct / total * 100)\n"
      ],
      "metadata": {
        "id": "y980Yf_SuJRD",
        "colab": {
          "base_uri": "https://localhost:8080/"
        },
        "outputId": "a6cccbbe-cb09-483f-8ac0-baea9337de09"
      },
      "execution_count": null,
      "outputs": [
        {
          "output_type": "stream",
          "name": "stdout",
          "text": [
            "epoch:  0\n"
          ]
        },
        {
          "output_type": "stream",
          "name": "stderr",
          "text": [
            "/usr/lib/python3.10/multiprocessing/popen_fork.py:66: RuntimeWarning: os.fork() was called. os.fork() is incompatible with multithreaded code, and JAX is multithreaded, so this will likely lead to a deadlock.\n",
            "  self.pid = os.fork()\n",
            "/usr/local/lib/python3.10/dist-packages/PIL/TiffImagePlugin.py:858: UserWarning: Truncated File Read\n",
            "  warnings.warn(str(msg))\n"
          ]
        },
        {
          "output_type": "stream",
          "name": "stdout",
          "text": [
            "loss: tensor(0.6482, device='cuda:0', grad_fn=<NllLossBackward0>)\n",
            "outputs shape: torch.Size([64, 2])\n",
            "accuracy:  65.671875\n",
            "loss: tensor(0.5570, device='cuda:0', grad_fn=<NllLossBackward0>)\n",
            "outputs shape: torch.Size([64, 2])\n",
            "accuracy:  66.390625\n",
            "loss: tensor(0.5445, device='cuda:0', grad_fn=<NllLossBackward0>)\n",
            "outputs shape: torch.Size([64, 2])\n",
            "accuracy:  67.49479166666667\n"
          ]
        },
        {
          "output_type": "stream",
          "name": "stderr",
          "text": [
            "/usr/lib/python3.10/multiprocessing/popen_fork.py:66: RuntimeWarning: os.fork() was called. os.fork() is incompatible with multithreaded code, and JAX is multithreaded, so this will likely lead to a deadlock.\n",
            "  self.pid = os.fork()\n"
          ]
        },
        {
          "output_type": "stream",
          "name": "stdout",
          "text": [
            "epoch:  1\n"
          ]
        },
        {
          "output_type": "stream",
          "name": "stderr",
          "text": [
            "/usr/local/lib/python3.10/dist-packages/PIL/TiffImagePlugin.py:858: UserWarning: Truncated File Read\n",
            "  warnings.warn(str(msg))\n"
          ]
        },
        {
          "output_type": "stream",
          "name": "stdout",
          "text": [
            "loss: tensor(0.5594, device='cuda:0', grad_fn=<NllLossBackward0>)\n",
            "outputs shape: torch.Size([64, 2])\n",
            "accuracy:  71.78125\n",
            "loss: tensor(0.6219, device='cuda:0', grad_fn=<NllLossBackward0>)\n",
            "outputs shape: torch.Size([64, 2])\n",
            "accuracy:  72.3125\n",
            "loss: tensor(0.4956, device='cuda:0', grad_fn=<NllLossBackward0>)\n",
            "outputs shape: torch.Size([64, 2])\n",
            "accuracy:  72.68229166666667\n",
            "epoch:  2\n",
            "loss: tensor(0.4174, device='cuda:0', grad_fn=<NllLossBackward0>)\n",
            "outputs shape: torch.Size([64, 2])\n",
            "accuracy:  75.90625\n",
            "loss: tensor(0.4676, device='cuda:0', grad_fn=<NllLossBackward0>)\n",
            "outputs shape: torch.Size([64, 2])\n",
            "accuracy:  76.40625\n"
          ]
        },
        {
          "output_type": "stream",
          "name": "stderr",
          "text": [
            "/usr/local/lib/python3.10/dist-packages/PIL/TiffImagePlugin.py:858: UserWarning: Truncated File Read\n",
            "  warnings.warn(str(msg))\n"
          ]
        },
        {
          "output_type": "stream",
          "name": "stdout",
          "text": [
            "loss: tensor(0.4855, device='cuda:0', grad_fn=<NllLossBackward0>)\n",
            "outputs shape: torch.Size([64, 2])\n",
            "accuracy:  76.234375\n",
            "epoch:  3\n",
            "loss: tensor(0.4307, device='cuda:0', grad_fn=<NllLossBackward0>)\n",
            "outputs shape: torch.Size([64, 2])\n",
            "accuracy:  77.65625\n",
            "loss: tensor(0.5116, device='cuda:0', grad_fn=<NllLossBackward0>)\n",
            "outputs shape: torch.Size([64, 2])\n",
            "accuracy:  78.203125\n"
          ]
        },
        {
          "output_type": "stream",
          "name": "stderr",
          "text": [
            "/usr/local/lib/python3.10/dist-packages/PIL/TiffImagePlugin.py:858: UserWarning: Truncated File Read\n",
            "  warnings.warn(str(msg))\n"
          ]
        },
        {
          "output_type": "stream",
          "name": "stdout",
          "text": [
            "loss: tensor(0.5023, device='cuda:0', grad_fn=<NllLossBackward0>)\n",
            "outputs shape: torch.Size([64, 2])\n",
            "accuracy:  78.63541666666667\n",
            "epoch:  4\n",
            "loss: tensor(0.4459, device='cuda:0', grad_fn=<NllLossBackward0>)\n",
            "outputs shape: torch.Size([64, 2])\n",
            "accuracy:  79.109375\n",
            "loss: tensor(0.3462, device='cuda:0', grad_fn=<NllLossBackward0>)\n",
            "outputs shape: torch.Size([64, 2])\n",
            "accuracy:  79.453125\n"
          ]
        },
        {
          "output_type": "stream",
          "name": "stderr",
          "text": [
            "/usr/local/lib/python3.10/dist-packages/PIL/TiffImagePlugin.py:858: UserWarning: Truncated File Read\n",
            "  warnings.warn(str(msg))\n"
          ]
        },
        {
          "output_type": "stream",
          "name": "stdout",
          "text": [
            "loss: tensor(0.5104, device='cuda:0', grad_fn=<NllLossBackward0>)\n",
            "outputs shape: torch.Size([64, 2])\n",
            "accuracy:  79.65625\n",
            "epoch:  5\n",
            "loss: tensor(0.3797, device='cuda:0', grad_fn=<NllLossBackward0>)\n",
            "outputs shape: torch.Size([64, 2])\n",
            "accuracy:  81.34375\n"
          ]
        },
        {
          "output_type": "stream",
          "name": "stderr",
          "text": [
            "/usr/local/lib/python3.10/dist-packages/PIL/TiffImagePlugin.py:858: UserWarning: Truncated File Read\n",
            "  warnings.warn(str(msg))\n"
          ]
        },
        {
          "output_type": "stream",
          "name": "stdout",
          "text": [
            "loss: tensor(0.4189, device='cuda:0', grad_fn=<NllLossBackward0>)\n",
            "outputs shape: torch.Size([64, 2])\n",
            "accuracy:  81.4765625\n",
            "loss: tensor(0.3388, device='cuda:0', grad_fn=<NllLossBackward0>)\n",
            "outputs shape: torch.Size([64, 2])\n",
            "accuracy:  81.55729166666667\n",
            "epoch:  6\n"
          ]
        },
        {
          "output_type": "stream",
          "name": "stderr",
          "text": [
            "/usr/local/lib/python3.10/dist-packages/PIL/TiffImagePlugin.py:858: UserWarning: Truncated File Read\n",
            "  warnings.warn(str(msg))\n"
          ]
        },
        {
          "output_type": "stream",
          "name": "stdout",
          "text": [
            "loss: tensor(0.3106, device='cuda:0', grad_fn=<NllLossBackward0>)\n",
            "outputs shape: torch.Size([64, 2])\n",
            "accuracy:  81.828125\n",
            "loss: tensor(0.2790, device='cuda:0', grad_fn=<NllLossBackward0>)\n",
            "outputs shape: torch.Size([64, 2])\n",
            "accuracy:  81.75\n",
            "loss: tensor(0.4144, device='cuda:0', grad_fn=<NllLossBackward0>)\n",
            "outputs shape: torch.Size([64, 2])\n",
            "accuracy:  81.88541666666667\n",
            "epoch:  7\n"
          ]
        },
        {
          "output_type": "stream",
          "name": "stderr",
          "text": [
            "/usr/local/lib/python3.10/dist-packages/PIL/TiffImagePlugin.py:858: UserWarning: Truncated File Read\n",
            "  warnings.warn(str(msg))\n"
          ]
        },
        {
          "output_type": "stream",
          "name": "stdout",
          "text": [
            "loss: tensor(0.2055, device='cuda:0', grad_fn=<NllLossBackward0>)\n",
            "outputs shape: torch.Size([64, 2])\n",
            "accuracy:  83.609375\n",
            "loss: tensor(0.6329, device='cuda:0', grad_fn=<NllLossBackward0>)\n",
            "outputs shape: torch.Size([64, 2])\n",
            "accuracy:  82.9765625\n",
            "loss: tensor(0.4378, device='cuda:0', grad_fn=<NllLossBackward0>)\n",
            "outputs shape: torch.Size([64, 2])\n",
            "accuracy:  83.06770833333333\n",
            "epoch:  8\n",
            "loss: tensor(0.2674, device='cuda:0', grad_fn=<NllLossBackward0>)\n",
            "outputs shape: torch.Size([64, 2])\n",
            "accuracy:  85.1875\n"
          ]
        },
        {
          "output_type": "stream",
          "name": "stderr",
          "text": [
            "/usr/local/lib/python3.10/dist-packages/PIL/TiffImagePlugin.py:858: UserWarning: Truncated File Read\n",
            "  warnings.warn(str(msg))\n"
          ]
        },
        {
          "output_type": "stream",
          "name": "stdout",
          "text": [
            "loss: tensor(0.3739, device='cuda:0', grad_fn=<NllLossBackward0>)\n",
            "outputs shape: torch.Size([64, 2])\n",
            "accuracy:  84.203125\n",
            "loss: tensor(0.2912, device='cuda:0', grad_fn=<NllLossBackward0>)\n",
            "outputs shape: torch.Size([64, 2])\n",
            "accuracy:  84.359375\n",
            "epoch:  9\n"
          ]
        },
        {
          "output_type": "stream",
          "name": "stderr",
          "text": [
            "/usr/local/lib/python3.10/dist-packages/PIL/TiffImagePlugin.py:858: UserWarning: Truncated File Read\n",
            "  warnings.warn(str(msg))\n"
          ]
        },
        {
          "output_type": "stream",
          "name": "stdout",
          "text": [
            "loss: tensor(0.3159, device='cuda:0', grad_fn=<NllLossBackward0>)\n",
            "outputs shape: torch.Size([64, 2])\n",
            "accuracy:  87.65625\n",
            "loss: tensor(0.2598, device='cuda:0', grad_fn=<NllLossBackward0>)\n",
            "outputs shape: torch.Size([64, 2])\n",
            "accuracy:  86.3671875\n",
            "loss: tensor(0.2992, device='cuda:0', grad_fn=<NllLossBackward0>)\n",
            "outputs shape: torch.Size([64, 2])\n",
            "accuracy:  85.96354166666667\n",
            "epoch:  10\n",
            "loss: tensor(0.3681, device='cuda:0', grad_fn=<NllLossBackward0>)\n",
            "outputs shape: torch.Size([64, 2])\n",
            "accuracy:  86.890625\n",
            "loss: tensor(0.4065, device='cuda:0', grad_fn=<NllLossBackward0>)\n",
            "outputs shape: torch.Size([64, 2])\n",
            "accuracy:  87.2265625\n"
          ]
        },
        {
          "output_type": "stream",
          "name": "stderr",
          "text": [
            "/usr/local/lib/python3.10/dist-packages/PIL/TiffImagePlugin.py:858: UserWarning: Truncated File Read\n",
            "  warnings.warn(str(msg))\n"
          ]
        },
        {
          "output_type": "stream",
          "name": "stdout",
          "text": [
            "loss: tensor(0.4095, device='cuda:0', grad_fn=<NllLossBackward0>)\n",
            "outputs shape: torch.Size([64, 2])\n",
            "accuracy:  86.86458333333333\n",
            "epoch:  11\n"
          ]
        },
        {
          "output_type": "stream",
          "name": "stderr",
          "text": [
            "/usr/local/lib/python3.10/dist-packages/PIL/TiffImagePlugin.py:858: UserWarning: Truncated File Read\n",
            "  warnings.warn(str(msg))\n"
          ]
        },
        {
          "output_type": "stream",
          "name": "stdout",
          "text": [
            "loss: tensor(0.2564, device='cuda:0', grad_fn=<NllLossBackward0>)\n",
            "outputs shape: torch.Size([64, 2])\n",
            "accuracy:  88.359375\n",
            "loss: tensor(0.2305, device='cuda:0', grad_fn=<NllLossBackward0>)\n",
            "outputs shape: torch.Size([64, 2])\n",
            "accuracy:  87.9453125\n",
            "loss: tensor(0.3313, device='cuda:0', grad_fn=<NllLossBackward0>)\n",
            "outputs shape: torch.Size([64, 2])\n",
            "accuracy:  87.90104166666667\n",
            "epoch:  12\n",
            "loss: tensor(0.3167, device='cuda:0', grad_fn=<NllLossBackward0>)\n",
            "outputs shape: torch.Size([64, 2])\n",
            "accuracy:  89.53125\n"
          ]
        },
        {
          "output_type": "stream",
          "name": "stderr",
          "text": [
            "/usr/local/lib/python3.10/dist-packages/PIL/TiffImagePlugin.py:858: UserWarning: Truncated File Read\n",
            "  warnings.warn(str(msg))\n"
          ]
        },
        {
          "output_type": "stream",
          "name": "stdout",
          "text": [
            "loss: tensor(0.1382, device='cuda:0', grad_fn=<NllLossBackward0>)\n",
            "outputs shape: torch.Size([64, 2])\n",
            "accuracy:  89.4296875\n",
            "loss: tensor(0.2654, device='cuda:0', grad_fn=<NllLossBackward0>)\n",
            "outputs shape: torch.Size([64, 2])\n",
            "accuracy:  89.09375\n",
            "epoch:  13\n"
          ]
        },
        {
          "output_type": "stream",
          "name": "stderr",
          "text": [
            "/usr/local/lib/python3.10/dist-packages/PIL/TiffImagePlugin.py:858: UserWarning: Truncated File Read\n",
            "  warnings.warn(str(msg))\n"
          ]
        },
        {
          "output_type": "stream",
          "name": "stdout",
          "text": [
            "loss: tensor(0.1916, device='cuda:0', grad_fn=<NllLossBackward0>)\n",
            "outputs shape: torch.Size([64, 2])\n",
            "accuracy:  91.515625\n",
            "loss: tensor(0.1566, device='cuda:0', grad_fn=<NllLossBackward0>)\n",
            "outputs shape: torch.Size([64, 2])\n",
            "accuracy:  91.1328125\n",
            "loss: tensor(0.3953, device='cuda:0', grad_fn=<NllLossBackward0>)\n",
            "outputs shape: torch.Size([64, 2])\n",
            "accuracy:  90.875\n",
            "epoch:  14\n"
          ]
        },
        {
          "output_type": "stream",
          "name": "stderr",
          "text": [
            "/usr/local/lib/python3.10/dist-packages/PIL/TiffImagePlugin.py:858: UserWarning: Truncated File Read\n",
            "  warnings.warn(str(msg))\n"
          ]
        },
        {
          "output_type": "stream",
          "name": "stdout",
          "text": [
            "loss: tensor(0.1586, device='cuda:0', grad_fn=<NllLossBackward0>)\n",
            "outputs shape: torch.Size([64, 2])\n",
            "accuracy:  92.21875\n",
            "loss: tensor(0.2437, device='cuda:0', grad_fn=<NllLossBackward0>)\n",
            "outputs shape: torch.Size([64, 2])\n",
            "accuracy:  92.453125\n",
            "loss: tensor(0.1638, device='cuda:0', grad_fn=<NllLossBackward0>)\n",
            "outputs shape: torch.Size([64, 2])\n",
            "accuracy:  92.08854166666667\n"
          ]
        }
      ]
    },
    {
      "cell_type": "markdown",
      "source": [
        "Save ResNet18 Model (commented out after saving into Google Drive)"
      ],
      "metadata": {
        "id": "G61xedrxFG89"
      }
    },
    {
      "cell_type": "code",
      "source": [
        "try:\n",
        "    torch.save({'epoch': total_epochs, 'state_dict': model.state_dict(), 'optimizer': optimizer.state_dict()}, model_path)\n",
        "    print(\"Model saved successfully at {}\".format(model_path))\n",
        "except Exception as e:\n",
        "    print(\"Failed to save model:\", e)"
      ],
      "metadata": {
        "colab": {
          "base_uri": "https://localhost:8080/"
        },
        "id": "ZETIFfgmPNbT",
        "outputId": "9312809d-c013-4b71-d321-4091805d785f"
      },
      "execution_count": null,
      "outputs": [
        {
          "output_type": "stream",
          "name": "stdout",
          "text": [
            "Model saved successfully at /custom_resnet18_model_15epochs.pth\n"
          ]
        }
      ]
    },
    {
      "cell_type": "markdown",
      "source": [
        "Confusion Matrix"
      ],
      "metadata": {
        "id": "xSPoVfY7FNqG"
      }
    },
    {
      "cell_type": "code",
      "source": [
        "from sklearn.metrics import confusion_matrix\n",
        "from sklearn import metrics\n",
        "\n",
        "outputs_all = torch.tensor([]).to(device)\n",
        "targets_all = torch.tensor([]).to(device)\n",
        "\n",
        "\n",
        "for i_batch, data in enumerate(train_loader, 0):\n",
        "    if i_batch > 3:\n",
        "        break\n",
        "\n",
        "    inputs, targets = data[0].to(device), data[1].to(device)\n",
        "\n",
        "    outputs = model(inputs)\n",
        "\n",
        "    outputs_all = torch.cat((outputs_all, outputs))\n",
        "    targets_all = torch.cat((targets_all, targets))\n",
        "\n",
        "predicted = torch.max(outputs_all, axis=1)[1]\n",
        "\n",
        "predicted = predicted.cpu()\n",
        "expected = targets_all.cpu()\n",
        "\n",
        "print(\"Confusion matrix:\\n{}\\n\".format(metrics.confusion_matrix(expected, predicted)))"
      ],
      "metadata": {
        "colab": {
          "base_uri": "https://localhost:8080/"
        },
        "id": "Hgsp71zAxOjZ",
        "outputId": "59c0aab1-f0a4-4c96-fe34-6ea94d63ec05"
      },
      "execution_count": null,
      "outputs": [
        {
          "output_type": "stream",
          "name": "stdout",
          "text": [
            "Confusion matrix:\n",
            "[[125   9]\n",
            " [  5 117]]\n",
            "\n"
          ]
        }
      ]
    },
    {
      "cell_type": "code",
      "source": [
        "for i_batch, data in enumerate(test_loader, 0):\n",
        "    if i_batch > 3:\n",
        "        break\n",
        "\n",
        "    inputs, targets = data[0].to(device), data[1].to(device)\n",
        "\n",
        "    outputs = model(inputs)\n",
        "\n",
        "    outputs_all = torch.cat((outputs_all, outputs))\n",
        "    targets_all = torch.cat((targets_all, targets))\n",
        "\n",
        "predicted = torch.max(outputs_all, axis=1)[1]\n",
        "\n",
        "predicted = predicted.cpu()\n",
        "expected = targets_all.cpu()\n",
        "\n",
        "print(\"Confusion matrix:\\n{}\\n\".format(metrics.confusion_matrix(expected, predicted)))"
      ],
      "metadata": {
        "id": "lf4papad8mfs",
        "colab": {
          "base_uri": "https://localhost:8080/"
        },
        "outputId": "81ca46b4-5a3f-4dff-cbb2-d6d8208dc43a"
      },
      "execution_count": null,
      "outputs": [
        {
          "output_type": "stream",
          "name": "stderr",
          "text": [
            "/usr/lib/python3.10/multiprocessing/popen_fork.py:66: RuntimeWarning: os.fork() was called. os.fork() is incompatible with multithreaded code, and JAX is multithreaded, so this will likely lead to a deadlock.\n",
            "  self.pid = os.fork()\n"
          ]
        },
        {
          "output_type": "stream",
          "name": "stdout",
          "text": [
            "Confusion matrix:\n",
            "[[221  43]\n",
            " [ 26 222]]\n",
            "\n"
          ]
        }
      ]
    },
    {
      "cell_type": "code",
      "source": [
        "'''\n",
        "Confusion matrix function\n",
        "Get all predictions and labels for the training set (see ANN notebook)\n",
        "'''\n",
        "\n",
        "def get_targets_preds(model, dataloader):\n",
        "  model.eval()\n",
        "\n",
        "  targets_all = torch.empty((0)).to(device)\n",
        "  preds_all = torch.empty((0)).to(device)\n",
        "\n",
        "  # No need to track gradients -- this turns off the autodiff,\n",
        "  # or the second part of the dual number\n",
        "  with torch.no_grad():\n",
        "    for i, data in enumerate(dataloader):\n",
        "      inputs, targets = data[0].to(device), data[1].to(device)\n",
        "\n",
        "      # Forward pass\n",
        "      outputs = model(inputs)\n",
        "\n",
        "      # Get the prediction class\n",
        "      _, preds = torch.max(outputs, 1)\n",
        "\n",
        "      targets_all = torch.cat((targets_all, targets))\n",
        "      preds_all = torch.cat((preds_all, preds))\n",
        "\n",
        "  return targets_all, preds_all\n"
      ],
      "metadata": {
        "id": "J_XVGkl495GT"
      },
      "execution_count": null,
      "outputs": []
    },
    {
      "cell_type": "code",
      "source": [
        "targets_all, preds_all = get_targets_preds(model, train_loader)\n",
        "\n",
        "## Note I set normalize to be 'true' here\n",
        "cm_train = confusion_matrix(targets_all.cpu(), preds_all.cpu(), normalize='true')\n"
      ],
      "metadata": {
        "id": "2GGIHnWA-K5p",
        "colab": {
          "base_uri": "https://localhost:8080/"
        },
        "outputId": "0b3a9131-4a2a-4e2f-9d8c-6342235d0319"
      },
      "execution_count": null,
      "outputs": [
        {
          "output_type": "stream",
          "name": "stderr",
          "text": [
            "/usr/lib/python3.10/multiprocessing/popen_fork.py:66: RuntimeWarning: os.fork() was called. os.fork() is incompatible with multithreaded code, and JAX is multithreaded, so this will likely lead to a deadlock.\n",
            "  self.pid = os.fork()\n",
            "/usr/lib/python3.10/multiprocessing/popen_fork.py:66: RuntimeWarning: os.fork() was called. os.fork() is incompatible with multithreaded code, and JAX is multithreaded, so this will likely lead to a deadlock.\n",
            "  self.pid = os.fork()\n",
            "/usr/local/lib/python3.10/dist-packages/PIL/TiffImagePlugin.py:858: UserWarning: Truncated File Read\n",
            "  warnings.warn(str(msg))\n"
          ]
        }
      ]
    },
    {
      "cell_type": "code",
      "source": [
        "# Set the precision to 2 decimal places and suppress scientific notation\n",
        "import numpy as np\n",
        "np.set_printoptions(precision=2, suppress=True)\n",
        "print(cm_train)"
      ],
      "metadata": {
        "id": "ib5q5BRP-TPU",
        "colab": {
          "base_uri": "https://localhost:8080/"
        },
        "outputId": "3b8670df-e2b5-4b73-9afd-5254b6c48555"
      },
      "execution_count": null,
      "outputs": [
        {
          "output_type": "stream",
          "name": "stdout",
          "text": [
            "[[0.9  0.1 ]\n",
            " [0.03 0.97]]\n"
          ]
        }
      ]
    },
    {
      "cell_type": "code",
      "source": [
        "targets_all, preds_all = get_targets_preds(model, test_loader)\n",
        "cm_test = confusion_matrix(targets_all.cpu(), preds_all.cpu(), normalize='true')\n",
        "print(cm_test)"
      ],
      "metadata": {
        "id": "tnIOFaLV-XgT",
        "colab": {
          "base_uri": "https://localhost:8080/"
        },
        "outputId": "be61f62a-61a3-43e5-93c2-b8b2b5a33606"
      },
      "execution_count": null,
      "outputs": [
        {
          "output_type": "stream",
          "name": "stderr",
          "text": [
            "/usr/lib/python3.10/multiprocessing/popen_fork.py:66: RuntimeWarning: os.fork() was called. os.fork() is incompatible with multithreaded code, and JAX is multithreaded, so this will likely lead to a deadlock.\n",
            "  self.pid = os.fork()\n",
            "/usr/lib/python3.10/multiprocessing/popen_fork.py:66: RuntimeWarning: os.fork() was called. os.fork() is incompatible with multithreaded code, and JAX is multithreaded, so this will likely lead to a deadlock.\n",
            "  self.pid = os.fork()\n"
          ]
        },
        {
          "output_type": "stream",
          "name": "stdout",
          "text": [
            "[[0.74 0.26]\n",
            " [0.14 0.86]]\n"
          ]
        }
      ]
    },
    {
      "cell_type": "code",
      "source": [
        "# A better way: *plotting* the confusion matrix\n",
        "import seaborn as sns\n",
        "\n",
        "class_names = ['Cat', 'Dog']\n",
        "def plot_confusion_matrix(cm, class_names, dataset='test', save=False):\n",
        "    fig, ax = plt.subplots(figsize=(10, 10))\n",
        "    sns.heatmap(cm, annot=True, fmt='.2f', cmap='Blues', xticklabels=class_names, yticklabels=class_names)\n",
        "    plt.ylabel('Actual')\n",
        "    plt.xlabel('Predicted')\n",
        "    if dataset == 'test':\n",
        "        plt.title('Confusion Matrix on Test Set')\n",
        "    else:\n",
        "        plt.title('Confusion Matrix on Training Set')\n",
        "    plt.tight_layout()\n",
        "    if save:\n",
        "        plt.savefig('confusion_matrix_'+dataset+'.png')\n",
        "    plt.show()\n",
        "\n",
        "\n",
        "plot_confusion_matrix(cm_test, classes, dataset='test', save=True)\n",
        "\n"
      ],
      "metadata": {
        "id": "UiLMz08K-Z6E",
        "colab": {
          "base_uri": "https://localhost:8080/",
          "height": 1000
        },
        "outputId": "a686c67d-a245-49b3-fd85-9e54e120dbe0"
      },
      "execution_count": null,
      "outputs": [
        {
          "output_type": "display_data",
          "data": {
            "text/plain": [
              "<Figure size 1000x1000 with 2 Axes>"
            ],
            "image/png": "[encoded data removed]"
          },
          "metadata": {}
        }
      ]
    }
  ]
}
